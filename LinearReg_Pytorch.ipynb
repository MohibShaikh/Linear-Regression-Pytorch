{
  "metadata": {
    "kernelspec": {
      "display_name": "Python 3",
      "name": "python3"
    },
    "language_info": {
      "name": "python",
      "version": "3.10.13",
      "mimetype": "text/x-python",
      "codemirror_mode": {
        "name": "ipython",
        "version": 3
      },
      "pygments_lexer": "ipython3",
      "nbconvert_exporter": "python",
      "file_extension": ".py"
    },
    "kaggle": {
      "accelerator": "nvidiaTeslaT4",
      "dataSources": [
        {
          "sourceId": 482,
          "sourceType": "datasetVersion",
          "datasetId": 228
        }
      ],
      "dockerImageVersionId": 30747,
      "isInternetEnabled": true,
      "language": "python",
      "sourceType": "notebook",
      "isGpuEnabled": true
    },
    "colab": {
      "name": "LinearReg_Pytorch",
      "provenance": [],
      "gpuType": "T4",
      "include_colab_link": true
    },
    "accelerator": "GPU"
  },
  "nbformat_minor": 0,
  "nbformat": 4,
  "cells": [
    {
      "cell_type": "markdown",
      "metadata": {
        "id": "view-in-github",
        "colab_type": "text"
      },
      "source": [
        "<a href=\"https://colab.research.google.com/github/MohibShaikh/Linear-Regression-Pytorch/blob/main/LinearReg_Pytorch.ipynb\" target=\"_parent\"><img src=\"https://colab.research.google.com/assets/colab-badge.svg\" alt=\"Open In Colab\"/></a>"
      ]
    },
    {
      "cell_type": "code",
      "source": [
        "import pandas as pd\n",
        "import numpy as np\n",
        "import torch"
      ],
      "metadata": {
        "execution": {
          "iopub.status.busy": "2024-07-31T07:41:39.161796Z",
          "iopub.execute_input": "2024-07-31T07:41:39.162143Z",
          "iopub.status.idle": "2024-07-31T07:41:39.166718Z",
          "shell.execute_reply.started": "2024-07-31T07:41:39.162115Z",
          "shell.execute_reply": "2024-07-31T07:41:39.165753Z"
        },
        "trusted": true,
        "id": "vZlMomabyUHP"
      },
      "execution_count": 1,
      "outputs": []
    },
    {
      "cell_type": "code",
      "source": [
        "!unzip /content/archive.zip -d /content/pima-diabetes-database"
      ],
      "metadata": {
        "id": "6C7tzXXtzJCP",
        "outputId": "14f63768-3b35-4d8b-9f5d-2762f3d68fca",
        "colab": {
          "base_uri": "https://localhost:8080/"
        }
      },
      "execution_count": 3,
      "outputs": [
        {
          "output_type": "stream",
          "name": "stdout",
          "text": [
            "Archive:  /content/archive.zip\n",
            "  inflating: /content/pima-diabetes-database/diabetes.csv  \n"
          ]
        }
      ]
    },
    {
      "cell_type": "code",
      "source": [
        "data = pd.read_csv('/content/pima-diabetes-database/diabetes.csv')"
      ],
      "metadata": {
        "execution": {
          "iopub.status.busy": "2024-07-31T07:41:39.173152Z",
          "iopub.execute_input": "2024-07-31T07:41:39.173607Z",
          "iopub.status.idle": "2024-07-31T07:41:39.18293Z",
          "shell.execute_reply.started": "2024-07-31T07:41:39.173576Z",
          "shell.execute_reply": "2024-07-31T07:41:39.181995Z"
        },
        "trusted": true,
        "id": "goylno-6yUHQ"
      },
      "execution_count": 4,
      "outputs": []
    },
    {
      "cell_type": "code",
      "source": [
        "inputs = data.drop('Outcome',axis=1)\n",
        "inputs = np.array(inputs, dtype=np.float32)\n",
        "targets = data['Outcome']\n",
        "targets = np.array(targets, dtype=np.float32)"
      ],
      "metadata": {
        "execution": {
          "iopub.status.busy": "2024-07-31T07:41:39.186723Z",
          "iopub.execute_input": "2024-07-31T07:41:39.186983Z",
          "iopub.status.idle": "2024-07-31T07:41:39.192854Z",
          "shell.execute_reply.started": "2024-07-31T07:41:39.186961Z",
          "shell.execute_reply": "2024-07-31T07:41:39.191951Z"
        },
        "trusted": true,
        "id": "YcxSqf1iyUHQ"
      },
      "execution_count": 5,
      "outputs": []
    },
    {
      "cell_type": "code",
      "source": [
        "tensored = torch.from_numpy(inputs)\n",
        "targets = torch.from_numpy(targets)"
      ],
      "metadata": {
        "_uuid": "8f2839f25d086af736a60e9eeb907d3b93b6e0e5",
        "_cell_guid": "b1076dfc-b9ad-4769-8c92-a6c4dae69d19",
        "execution": {
          "iopub.status.busy": "2024-07-31T07:41:39.196684Z",
          "iopub.execute_input": "2024-07-31T07:41:39.197172Z",
          "iopub.status.idle": "2024-07-31T07:41:39.202257Z",
          "shell.execute_reply.started": "2024-07-31T07:41:39.197147Z",
          "shell.execute_reply": "2024-07-31T07:41:39.201578Z"
        },
        "trusted": true,
        "id": "Q1_D2swYyUHQ"
      },
      "execution_count": 6,
      "outputs": []
    },
    {
      "cell_type": "code",
      "source": [
        "shape_of_features = inputs.shape\n",
        "x,y = shape_of_features[0],shape_of_features[1]\n",
        "print(x,y)\n",
        "w = torch.randn(x,y, requires_grad=True)\n",
        "b = torch.randn(x,requires_grad=True)"
      ],
      "metadata": {
        "_uuid": "8f2839f25d086af736a60e9eeb907d3b93b6e0e5",
        "_cell_guid": "b1076dfc-b9ad-4769-8c92-a6c4dae69d19",
        "execution": {
          "iopub.status.busy": "2024-07-31T07:41:39.212983Z",
          "iopub.execute_input": "2024-07-31T07:41:39.213237Z",
          "iopub.status.idle": "2024-07-31T07:41:39.218911Z",
          "shell.execute_reply.started": "2024-07-31T07:41:39.213215Z",
          "shell.execute_reply": "2024-07-31T07:41:39.217982Z"
        },
        "trusted": true,
        "id": "o-HC0-wsyUHQ",
        "outputId": "93b7e376-79c1-413c-95b9-9737c9f19843",
        "colab": {
          "base_uri": "https://localhost:8080/"
        }
      },
      "execution_count": 7,
      "outputs": [
        {
          "output_type": "stream",
          "name": "stdout",
          "text": [
            "768 8\n"
          ]
        }
      ]
    },
    {
      "cell_type": "code",
      "source": [
        "def model(tensored):\n",
        "    x = tensored\n",
        "    return x @ w.t() + b"
      ],
      "metadata": {
        "_uuid": "8f2839f25d086af736a60e9eeb907d3b93b6e0e5",
        "_cell_guid": "b1076dfc-b9ad-4769-8c92-a6c4dae69d19",
        "execution": {
          "iopub.status.busy": "2024-07-31T07:41:39.226759Z",
          "iopub.execute_input": "2024-07-31T07:41:39.227176Z",
          "iopub.status.idle": "2024-07-31T07:41:39.230953Z",
          "shell.execute_reply.started": "2024-07-31T07:41:39.227151Z",
          "shell.execute_reply": "2024-07-31T07:41:39.230136Z"
        },
        "trusted": true,
        "id": "ljdH8uPgyUHQ"
      },
      "execution_count": 8,
      "outputs": []
    },
    {
      "cell_type": "code",
      "source": [
        "def mse(preds, targets):\n",
        "    diff = preds - targets\n",
        "    return torch.sum(diff * diff) / diff.numel()"
      ],
      "metadata": {
        "_uuid": "8f2839f25d086af736a60e9eeb907d3b93b6e0e5",
        "_cell_guid": "b1076dfc-b9ad-4769-8c92-a6c4dae69d19",
        "execution": {
          "iopub.status.busy": "2024-07-31T07:41:39.238137Z",
          "iopub.execute_input": "2024-07-31T07:41:39.238586Z",
          "iopub.status.idle": "2024-07-31T07:41:39.243133Z",
          "shell.execute_reply.started": "2024-07-31T07:41:39.238562Z",
          "shell.execute_reply": "2024-07-31T07:41:39.242245Z"
        },
        "trusted": true,
        "id": "ocoXwLyFyUHQ"
      },
      "execution_count": 9,
      "outputs": []
    },
    {
      "cell_type": "code",
      "source": [
        "def gda(loss,w,b):\n",
        "    with torch.no_grad():\n",
        "        w -= w.grad * 1e-2\n",
        "        b -= b.grad * 1e-2\n",
        "        w.grad.zero_()\n",
        "        b.grad.zero_()"
      ],
      "metadata": {
        "_uuid": "8f2839f25d086af736a60e9eeb907d3b93b6e0e5",
        "_cell_guid": "b1076dfc-b9ad-4769-8c92-a6c4dae69d19",
        "execution": {
          "iopub.status.busy": "2024-07-31T07:41:39.249741Z",
          "iopub.execute_input": "2024-07-31T07:41:39.249988Z",
          "iopub.status.idle": "2024-07-31T07:41:39.25513Z",
          "shell.execute_reply.started": "2024-07-31T07:41:39.249958Z",
          "shell.execute_reply": "2024-07-31T07:41:39.254216Z"
        },
        "trusted": true,
        "id": "y9fE2bgAyUHQ"
      },
      "execution_count": 10,
      "outputs": []
    },
    {
      "cell_type": "code",
      "source": [
        "epochs = 100000\n",
        "for i in range(epochs):\n",
        "    preds = model(tensored)\n",
        "    loss = mse(preds, targets)\n",
        "    loss.backward()\n",
        "    gda(loss,w,b)\n",
        "    if (i + 1) % 20000 == 0:\n",
        "        print(f\"Epoch {i + 1}/{epochs}, Loss: {round(loss.item(),4)}\")\n",
        "print(loss)"
      ],
      "metadata": {
        "_uuid": "8f2839f25d086af736a60e9eeb907d3b93b6e0e5",
        "_cell_guid": "b1076dfc-b9ad-4769-8c92-a6c4dae69d19",
        "execution": {
          "iopub.status.busy": "2024-07-31T07:41:39.258985Z",
          "iopub.execute_input": "2024-07-31T07:41:39.259238Z",
          "iopub.status.idle": "2024-07-31T07:44:47.901755Z",
          "shell.execute_reply.started": "2024-07-31T07:41:39.259217Z",
          "shell.execute_reply": "2024-07-31T07:44:47.900796Z"
        },
        "trusted": true,
        "id": "FFXnp2MByUHR",
        "outputId": "1e47cfb8-e3d4-4ce3-d96b-f64025416b18",
        "colab": {
          "base_uri": "https://localhost:8080/"
        }
      },
      "execution_count": 11,
      "outputs": [
        {
          "output_type": "stream",
          "name": "stdout",
          "text": [
            "Epoch 20000/100000, Loss: 0.1400332748889923\n",
            "Epoch 40000/100000, Loss: 0.12632760405540466\n",
            "Epoch 60000/100000, Loss: 0.11594067513942719\n",
            "Epoch 80000/100000, Loss: 0.10654891282320023\n",
            "Epoch 100000/100000, Loss: 0.09805163741111755\n",
            "tensor(0.0981, grad_fn=<DivBackward0>)\n"
          ]
        }
      ]
    },
    {
      "cell_type": "code",
      "source": [],
      "metadata": {
        "id": "ZndEMqepzW74"
      },
      "execution_count": null,
      "outputs": []
    }
  ]
}